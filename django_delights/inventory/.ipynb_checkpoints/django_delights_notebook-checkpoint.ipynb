{
 "cells": [
  {
   "cell_type": "code",
   "execution_count": 74,
   "id": "1d94a2b4",
   "metadata": {},
   "outputs": [
    {
     "name": "stdout",
     "output_type": "stream",
     "text": [
      "defaultdict(<class 'set'>, {'Django Djaffa Cake': {'milk chocolate', 'cane sugar', 'flour', 'orange jelly'}, 'Eggs benedict': {'flour'}, 'carne asada': {'sirloin steak'}, 'perro caliente': set(), 'choriperro': {'onions'}})\n"
     ]
    },
    {
     "data": {
      "text/plain": [
       "'\\nCalculate revenue by adding all the others and\\nsubstracting the cost of the ingredients\\n\\nwhen an order is made for a dish we need to substract the ingredients\\nfrom the inventory \\n\\n'"
      ]
     },
     "execution_count": 74,
     "metadata": {},
     "output_type": "execute_result"
    }
   ],
   "source": [
    "from inventory.models import Purchase, Ingredient, MenuItem, RecipeRequirement\n",
    "from collections import defaultdict\n",
    "\n",
    "# Wahts the current restaurants inventory?\n",
    "inventory = Ingredient.objects.all()\n",
    "for i in inventory:\n",
    "    #print(i)\n",
    "    pass\n",
    "    \n",
    "purchases = Purchase.objects.all()\n",
    "# what purchases have been made?\n",
    "\n",
    "def list_menuItems():\n",
    "    menuItems = MenuItem.objects.all()\n",
    "    menu_dict = defaultdict()\n",
    "    #print(menuItems)\n",
    "    for item in menuItems:\n",
    "        menu_dict[item.title] = set()\n",
    "    for item in menuItems:\n",
    "        recipes = RecipeRequirement.objects.filter(menu_item=item)\n",
    "        for recipe in recipes:\n",
    "            \n",
    "            menu_dict[item.title].add(recipe.ingredient.name)\n",
    "        \n",
    "    print(menu_dict)\n",
    "\n",
    "for p in purchases:\n",
    "    #print(p)\n",
    "    pass\n",
    "\n",
    "\n",
    "def calculate_cost():\n",
    "    menu_items = MenuItem.objects.all()\n",
    "    total_cost = 0\n",
    "    for item in menu_items:\n",
    "        recipes = RecipeRequirement.objects.filter(menu_item=item)\n",
    "        total_cost += sum([r.quantity * r.ingredient.unit_price for r in recipes])\n",
    "    print('{:.2f}'.format(total_cost))\n",
    "     \n",
    "\n",
    "def updateIngredient():\n",
    "    menu_items = Purchase.objects.all()\n",
    "    recipe = RecipeRequirements.objects.filter()\n",
    "    \n",
    "def calculate_revenue():\n",
    "    menu_items = Purchase.objects.all()\n",
    "    total_revenue = [m.menu_item.price for m in menu_items]\n",
    "    print(total_revenue)\n",
    "    cost_dish = 0 \n",
    "    for m in menu_items:\n",
    "        '''\n",
    "        What does the restaurant’s menu look like? What ingredients \n",
    "        (and how many of each) are required for each item on the menu? \n",
    "        What’s the price of each item\n",
    "        '''\n",
    "        #print(m)\n",
    "        recipes = RecipeRequirement.objects.filter(menu_item=m) \n",
    "        for recipe in recipes:\n",
    "            if recipe.quantity < 1.0:\n",
    "                pass\n",
    "\n",
    "            cost_dish += (recipe.quantity * recipe.ingredient.unit_price)\n",
    "            #print(recipe.quantity, recipe.ingredient.unit_price)\n",
    "\n",
    "\n",
    "        print(\"revenue:\",cost_dish)\n",
    "        \n",
    "        \n",
    "#calculate_revenue()   \n",
    "#calculate_cost()\n",
    "list_menuItems()\n",
    "    \n",
    "    \n",
    "'''\n",
    "Calculate revenue by adding all the others and\n",
    "substracting the cost of the ingredients\n",
    "\n",
    "when an order is made for a dish we need to substract the ingredients\n",
    "from the inventory \n",
    "\n",
    "'''\n"
   ]
  },
  {
   "cell_type": "code",
   "execution_count": null,
   "id": "d50a4244",
   "metadata": {},
   "outputs": [],
   "source": []
  }
 ],
 "metadata": {
  "kernelspec": {
   "display_name": "Django Shell-Plus",
   "language": "python",
   "name": "django_extensions"
  },
  "language_info": {
   "codemirror_mode": {
    "name": "ipython",
    "version": 3
   },
   "file_extension": ".py",
   "mimetype": "text/x-python",
   "name": "python",
   "nbconvert_exporter": "python",
   "pygments_lexer": "ipython3",
   "version": "3.9.2"
  }
 },
 "nbformat": 4,
 "nbformat_minor": 5
}
