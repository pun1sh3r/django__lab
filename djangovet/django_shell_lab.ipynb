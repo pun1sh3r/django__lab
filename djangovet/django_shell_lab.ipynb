{
 "cells": [
  {
   "cell_type": "code",
   "execution_count": 29,
   "id": "25c37336",
   "metadata": {},
   "outputs": [
    {
     "name": "stdout",
     "output_type": "stream",
     "text": [
      "3\n"
     ]
    },
    {
     "data": {
      "text/plain": [
       "\"\\n\\n\\nfor j in range(0,len(station_all)):\\n    for k in range(0,len(lines_all)):\\n        print(f' {lines_all[k]} -  {station_all[j]}')\\n        stop_obj = Stop(line=lines_all[k],station=station_all[j],stop_number=k)\\n        stop_obj.save()\\n        #for k in range(1,6):\\n            #stop_obj = \\n       \\n\\n\""
      ]
     },
     "execution_count": 29,
     "metadata": {},
     "output_type": "execute_result"
    }
   ],
   "source": [
    "from djitney.models import Station,Line,Stop\n",
    "import random \n",
    "\n",
    "\n",
    "Line.objects.all()\n",
    "Stop.objects.all()\n",
    "\n",
    "rand_num = random.randrange(len(Station.objects.all()))\n",
    "lines_all = Line.objects.all()\n",
    "station_all = Station.objects.all()\n",
    "\n",
    "print(len(lines_all))\n",
    "\n",
    "stop_obj= Stop(line=lines_all[0],station=station_all[4],stop_number=5)\n",
    "stop_obj.save()\n",
    "\n",
    "'''\n",
    "\n",
    "\n",
    "for j in range(0,len(station_all)):\n",
    "    for k in range(0,len(lines_all)):\n",
    "        print(f' {lines_all[k]} -  {station_all[j]}')\n",
    "        stop_obj = Stop(line=lines_all[k],station=station_all[j],stop_number=k)\n",
    "        stop_obj.save()\n",
    "        #for k in range(1,6):\n",
    "            #stop_obj = \n",
    "       \n",
    "\n",
    "'''"
   ]
  },
  {
   "cell_type": "code",
   "execution_count": 1,
   "id": "ebe626b0",
   "metadata": {},
   "outputs": [],
   "source": [
    "from django.contrib.auth.models import User \n",
    "user = User.objects.create_user(username=\"luis\", email=\"luis@codecademy.com\", password=\"!Test1234!\")\n",
    "\n",
    "user.save() "
   ]
  },
  {
   "cell_type": "code",
   "execution_count": null,
   "id": "db08db71",
   "metadata": {},
   "outputs": [],
   "source": []
  }
 ],
 "metadata": {
  "kernelspec": {
   "display_name": "Django Shell-Plus",
   "language": "python",
   "name": "django_extensions"
  },
  "language_info": {
   "codemirror_mode": {
    "name": "ipython",
    "version": 3
   },
   "file_extension": ".py",
   "mimetype": "text/x-python",
   "name": "python",
   "nbconvert_exporter": "python",
   "pygments_lexer": "ipython3",
   "version": "3.9.2"
  }
 },
 "nbformat": 4,
 "nbformat_minor": 5
}
