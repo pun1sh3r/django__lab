{
 "cells": [
  {
   "cell_type": "code",
   "execution_count": 1,
   "id": "f76c5a99",
   "metadata": {},
   "outputs": [
    {
     "name": "stdout",
     "output_type": "stream",
     "text": [
      "<QuerySet [<State: california>, <State: texas>, <State: kentucky>, <State: north carolina>, <State: south carolina>, <State: Floridaaaa>]> <QuerySet [<Attraction: disney rollercoaster>, <Attraction: disney rollercoaster>, <Attraction: disney rollercoaster>, <Attraction: cucko the rollercoaster>, <Attraction: island of adventure>, <Attraction: hello 1234>]>\n",
      "(<ManyToOneRel: touristAttractions.attraction>, <django.db.models.fields.AutoField: id>, <django.db.models.fields.CharField: stateName>, <django.db.models.fields.CharField: stateAbbreviation>)\n"
     ]
    }
   ],
   "source": [
    "from touristAttractions.models import State,Attraction\n",
    "\n",
    "print(State.objects.all(), Attraction.objects.all())\n",
    "print(State._meta.get_fields())"
   ]
  },
  {
   "cell_type": "code",
   "execution_count": null,
   "id": "4a74502d",
   "metadata": {},
   "outputs": [],
   "source": []
  }
 ],
 "metadata": {
  "kernelspec": {
   "display_name": "Django Shell-Plus",
   "language": "python",
   "name": "django_extensions"
  },
  "language_info": {
   "codemirror_mode": {
    "name": "ipython",
    "version": 3
   },
   "file_extension": ".py",
   "mimetype": "text/x-python",
   "name": "python",
   "nbconvert_exporter": "python",
   "pygments_lexer": "ipython3",
   "version": "3.9.2"
  }
 },
 "nbformat": 4,
 "nbformat_minor": 5
}
